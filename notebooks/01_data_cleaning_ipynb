import pandas as pd
import os

# Lataa raaka CSV
df = pd.read_csv('../data/raw/employment_data.csv')

# Esikatselu
print(df.head())

# Siivous
df.columns = df.columns.str.strip().str.lower()
df['year'] = pd.to_datetime(df['date']).dt.year

# Muunna Parquet-muotoon
os.makedirs('../data/processed', exist_ok=True)
df.to_parquet('../data/processed/employment_cleaned.parquet', index=False)

print("Valmis!")
